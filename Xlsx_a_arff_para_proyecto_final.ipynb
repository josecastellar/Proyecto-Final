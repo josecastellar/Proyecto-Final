{
  "nbformat": 4,
  "nbformat_minor": 0,
  "metadata": {
    "colab": {
      "provenance": []
    },
    "kernelspec": {
      "name": "python3",
      "display_name": "Python 3"
    },
    "language_info": {
      "name": "python"
    }
  },
  "cells": [
    {
      "cell_type": "code",
      "source": [
        "import pandas as pd\n",
        "import numpy as np\n",
        "from imblearn.over_sampling import SMOTE\n",
        "from sklearn.model_selection import train_test_split\n",
        "from sklearn.impute import SimpleImputer\n",
        "\n",
        "# Cargar el archivo .xlsx\n",
        "file_path = 'FGR_data_para_proyecto_final_clean_organizado.xlsx'  # Asegúrate de que esta ruta sea correcta\n",
        "df = pd.read_excel(file_path)\n",
        "\n",
        "# Eliminar columnas completamente vacías\n",
        "df = df.dropna(axis=1, how='all')\n",
        "\n",
        "# Separar las características (X) y la variable objetivo (y)\n",
        "X = df.iloc[:, :-1]  # Todas las columnas excepto la última\n",
        "y = df.iloc[:, -1]   # La última columna (Fetal weight)\n",
        "\n",
        "# Imputar los valores NaN\n",
        "imputer = SimpleImputer(strategy='mean')\n",
        "X_imputed = pd.DataFrame(imputer.fit_transform(X), columns=X.columns)\n",
        "\n",
        "# Aplicar SMOTE\n",
        "sm = SMOTE(random_state=42)\n",
        "X_res, y_res = sm.fit_resample(X_imputed, y)\n",
        "\n",
        "# Dividir el dataset en entrenamiento y prueba\n",
        "X_train, X_test, y_train, y_test = train_test_split(X_res, y_res, test_size=0.3, stratify=y_res, random_state=42)\n",
        "\n",
        "# Combinar X_train con y_train y X_test con y_test\n",
        "train_data = pd.concat([X_train, y_train], axis=1)\n",
        "test_data = pd.concat([X_test, y_test], axis=1)\n",
        "\n",
        "def save_as_arff(df, filename):\n",
        "    with open(filename, 'w') as f:\n",
        "        f.write('@relation dataset_diabetes_for_fcm_expert\\n\\n')\n",
        "\n",
        "        for i, col in enumerate(df.columns[:-1]):\n",
        "            f.write(f'@attribute c{i+1} real\\n')\n",
        "\n",
        "        f.write('@attribute class {0.0, 1.0}\\n')\n",
        "        f.write('\\n@data\\n')\n",
        "\n",
        "        for index, row in df.iterrows():\n",
        "            class_value = 1.0 if row.iloc[-1] > 0 else 0.0\n",
        "            data_row = row[:-1].values.tolist() + [class_value]\n",
        "            f.write(','.join(map(str, data_row)) + '\\n')\n",
        "\n",
        "# Guardar los archivos ARFF\n",
        "save_as_arff(train_data, 'train.arff')\n",
        "save_as_arff(test_data, 'test.arff')\n",
        "\n",
        "# Opcional: Guardar también el dataset completo balanceado\n",
        "full_data = pd.concat([X_res, y_res], axis=1)\n",
        "save_as_arff(full_data, 'dataset.arff')\n",
        "\n",
        "print(\"Archivos ARFF generados exitosamente.\")\n",
        "\n",
        "# Opcional: Mostrar las distribuciones de clases\n",
        "print(\"\\nDistribución de clases en el dataset original:\")\n",
        "print(y.value_counts())\n",
        "\n",
        "print(\"\\nDistribución de clases después de SMOTE:\")\n",
        "print(y_res.value_counts())\n",
        "\n",
        "print(\"\\nDistribución de clases en el conjunto de entrenamiento:\")\n",
        "print(y_train.value_counts())\n",
        "\n",
        "print(\"\\nDistribución de clases en el conjunto de prueba:\")\n",
        "print(y_test.value_counts())"
      ],
      "metadata": {
        "colab": {
          "base_uri": "https://localhost:8080/"
        },
        "id": "0Cbpzvwva6fF",
        "outputId": "eb3ef95f-7ede-42d5-c2c3-79d004f8b096"
      },
      "execution_count": 5,
      "outputs": [
        {
          "output_type": "stream",
          "name": "stdout",
          "text": [
            "Archivos ARFF generados exitosamente.\n",
            "\n",
            "Distribución de clases en el dataset original:\n",
            "Fetal weight\n",
            "0    56\n",
            "1    16\n",
            "Name: count, dtype: int64\n",
            "\n",
            "Distribución de clases después de SMOTE:\n",
            "Fetal weight\n",
            "0    56\n",
            "1    56\n",
            "Name: count, dtype: int64\n",
            "\n",
            "Distribución de clases en el conjunto de entrenamiento:\n",
            "Fetal weight\n",
            "0    39\n",
            "1    39\n",
            "Name: count, dtype: int64\n",
            "\n",
            "Distribución de clases en el conjunto de prueba:\n",
            "Fetal weight\n",
            "1    17\n",
            "0    17\n",
            "Name: count, dtype: int64\n"
          ]
        }
      ]
    }
  ]
}